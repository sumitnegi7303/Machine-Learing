{
 "cells": [
  {
   "cell_type": "markdown",
   "id": "98118565",
   "metadata": {},
   "source": [
    "# what is K-means Clustering?\n",
    "\n",
    "k-means performs division of objects into clusters which are\"similar\" between them and are\n",
    "\"dissimilar\" to the objects belonging to another cluster "
   ]
  },
  {
   "cell_type": "code",
   "execution_count": null,
   "id": "a7f62b55",
   "metadata": {},
   "outputs": [],
   "source": [
    "# can you explain this with an example?\n",
    "\n",
    "Sure.For understanding K-means in a better way,let's take an example of cricket"
   ]
  },
  {
   "cell_type": "code",
   "execution_count": null,
   "id": "d107f956",
   "metadata": {},
   "outputs": [],
   "source": [
    "Task: Identify bowlers and batsmen\n",
    "    \n",
    "♦ The data contains runs and wickets gained in the last 10 matches\n",
    "♦ So,the bowler will have more wickets and the batsmen will have higher runs"
   ]
  },
  {
   "cell_type": "code",
   "execution_count": null,
   "id": "c263a45d",
   "metadata": {},
   "outputs": [],
   "source": [
    "Assign data points \n",
    "\n",
    "Here,we have our dataset with x and y coordinates\n",
    "\n",
    "Now,we want to cluster this data using K-Means"
   ]
  },
  {
   "cell_type": "code",
   "execution_count": null,
   "id": "df0d2352",
   "metadata": {},
   "outputs": [],
   "source": [
    "Cluster 1\n",
    "\n",
    "We can see that this cluster has players with high runs and low wickets"
   ]
  },
  {
   "cell_type": "code",
   "execution_count": null,
   "id": "37231bb5",
   "metadata": {},
   "outputs": [],
   "source": [
    "Cluster 2\n",
    "\n",
    "And here, we can see that this cluster has players with high wickets and low wickets\n"
   ]
  },
  {
   "cell_type": "code",
   "execution_count": null,
   "id": "26871739",
   "metadata": {},
   "outputs": [],
   "source": [
    "Initially,two centroids are assigned rando,ly\n",
    "\n",
    "The Euclidean distance is used to find out which centroid is closet to each data point\n",
    "and the data points are assigned to the corresponding centroids."
   ]
  },
  {
   "cell_type": "code",
   "execution_count": null,
   "id": "2bdd62a4",
   "metadata": {},
   "outputs": [],
   "source": [
    "Reposition the two centroids for optimization."
   ]
  },
  {
   "cell_type": "code",
   "execution_count": null,
   "id": "396e5429",
   "metadata": {},
   "outputs": [],
   "source": [
    "The proces is iteratively repeated until our centroids become static"
   ]
  },
  {
   "cell_type": "code",
   "execution_count": null,
   "id": "813ca5cd",
   "metadata": {},
   "outputs": [],
   "source": [
    "Types of Clustering \n",
    "\n",
    "clustering :              \n",
    "    Hierarchical           Partitional\n",
    "   .Agglomerative         .K-means \n",
    "   .Divisive              .Fuzzy C-Means"
   ]
  },
  {
   "cell_type": "code",
   "execution_count": null,
   "id": "b4d718cd",
   "metadata": {},
   "outputs": [],
   "source": [
    "Hierachical clustering:\n",
    "    Clusters have a tree like structure or a parent child relationship\n",
    "    \n",
    "Agglomerative:\n",
    "    \"Bottom up\"approach:Begin with each element as a separate cluster and merge them into\n",
    "        successively larger clusters\n",
    "        \n",
    "Divisive:\n",
    "    \"Top down\"approach begin with the whole set and proceed to divide it into successively smaller\n",
    "    clusters."
   ]
  },
  {
   "cell_type": "code",
   "execution_count": null,
   "id": "9a795d5e",
   "metadata": {},
   "outputs": [],
   "source": [
    "Partitional Clustering:\n",
    "    \n",
    "K-means:\n",
    "    Division of objects into clusters such that each object is in exactly one cluster,not several\n",
    "    \n",
    "Fuzzy C-Means:\n",
    "    Division of objects into clusters such that each object can belong to multiple clusters"
   ]
  },
  {
   "cell_type": "code",
   "execution_count": null,
   "id": "36a1679e",
   "metadata": {},
   "outputs": [],
   "source": [
    "Application of K-means Clustering\n",
    "\n",
    "Academic performance\n",
    "Diagnostic systems\n",
    "search Engines\n",
    "Wireless Sensor Network's"
   ]
  },
  {
   "cell_type": "code",
   "execution_count": null,
   "id": "7f21a08b",
   "metadata": {},
   "outputs": [],
   "source": [
    "Distance Measure \n",
    "\n",
    "Euclidean distance measure \n",
    "Manhattan distance measure\n",
    "Squared Euclidean distance measure \n",
    "Cosine distance measure\n",
    "\n",
    "#Distance measure will determine the similarity between two elements and it will influence the \n",
    "shape of the clusters"
   ]
  },
  {
   "cell_type": "code",
   "execution_count": null,
   "id": "5af25508",
   "metadata": {},
   "outputs": [],
   "source": [
    "Euclidean distance measure :\n",
    "    .The Euclidean distance is the \"ordinary\" straight line \n",
    "    .it is the distance between two points in Euclidean space\n",
    "    "
   ]
  },
  {
   "cell_type": "code",
   "execution_count": null,
   "id": "312dc584",
   "metadata": {},
   "outputs": [],
   "source": [
    "Squared euclidean distance measure:\n",
    "    .The Euclidean swuared distance metric uses the same equation as the Euclidean distance metric, but \n",
    "    does not take the squrae root."
   ]
  },
  {
   "cell_type": "code",
   "execution_count": null,
   "id": "d5c3ede7",
   "metadata": {},
   "outputs": [],
   "source": [
    "Manhattan distance measure:\n",
    "    .The Manhattan distance  is the simple sum of the horizontal and vertical components or the distance between \n",
    "    two points measured along axes at right angels"
   ]
  },
  {
   "cell_type": "code",
   "execution_count": null,
   "id": "9c13395f",
   "metadata": {},
   "outputs": [],
   "source": [
    "Cosine distance measure:\n",
    "    The cosine distance similarity measures the angle between the two vectors"
   ]
  },
  {
   "cell_type": "code",
   "execution_count": null,
   "id": "1ed5c0ad",
   "metadata": {},
   "outputs": [],
   "source": []
  },
  {
   "cell_type": "code",
   "execution_count": null,
   "id": "7a6efda0",
   "metadata": {},
   "outputs": [],
   "source": []
  },
  {
   "cell_type": "code",
   "execution_count": null,
   "id": "bad6fca9",
   "metadata": {},
   "outputs": [],
   "source": []
  },
  {
   "cell_type": "code",
   "execution_count": null,
   "id": "30c9819d",
   "metadata": {},
   "outputs": [],
   "source": []
  },
  {
   "cell_type": "code",
   "execution_count": null,
   "id": "7ad0437e",
   "metadata": {},
   "outputs": [],
   "source": []
  },
  {
   "cell_type": "code",
   "execution_count": null,
   "id": "2b1f9144",
   "metadata": {},
   "outputs": [],
   "source": []
  },
  {
   "cell_type": "code",
   "execution_count": null,
   "id": "49f642f1",
   "metadata": {},
   "outputs": [],
   "source": []
  },
  {
   "cell_type": "code",
   "execution_count": null,
   "id": "a53331a1",
   "metadata": {},
   "outputs": [],
   "source": []
  },
  {
   "cell_type": "code",
   "execution_count": null,
   "id": "c0d4b9cd",
   "metadata": {},
   "outputs": [],
   "source": []
  },
  {
   "cell_type": "code",
   "execution_count": null,
   "id": "b3240761",
   "metadata": {},
   "outputs": [],
   "source": []
  }
 ],
 "metadata": {
  "kernelspec": {
   "display_name": "Python 3 (ipykernel)",
   "language": "python",
   "name": "python3"
  },
  "language_info": {
   "codemirror_mode": {
    "name": "ipython",
    "version": 3
   },
   "file_extension": ".py",
   "mimetype": "text/x-python",
   "name": "python",
   "nbconvert_exporter": "python",
   "pygments_lexer": "ipython3",
   "version": "3.9.7"
  }
 },
 "nbformat": 4,
 "nbformat_minor": 5
}
