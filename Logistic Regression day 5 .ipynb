{
 "cells": [
  {
   "cell_type": "code",
   "execution_count": 1,
   "id": "9f25768a",
   "metadata": {},
   "outputs": [],
   "source": [
    "import numpy as np \n",
    "import pandas as pd\n"
   ]
  },
  {
   "cell_type": "code",
   "execution_count": 2,
   "id": "b1df39aa",
   "metadata": {},
   "outputs": [],
   "source": [
    "df = pd.read_csv(\"C:\\\\Users\\\\GOURAV NEGI\\\\Downloads\\\\Copy of Copy of fifa_data.csv\",index_col=[0])"
   ]
  },
  {
   "cell_type": "code",
   "execution_count": 3,
   "id": "3495d9d7",
   "metadata": {},
   "outputs": [
    {
     "data": {
      "text/plain": [
       "(18207, 88)"
      ]
     },
     "execution_count": 3,
     "metadata": {},
     "output_type": "execute_result"
    }
   ],
   "source": [
    "df.shape"
   ]
  },
  {
   "cell_type": "code",
   "execution_count": 4,
   "id": "61d7a39b",
   "metadata": {},
   "outputs": [
    {
     "data": {
      "text/plain": [
       "18207"
      ]
     },
     "execution_count": 4,
     "metadata": {},
     "output_type": "execute_result"
    }
   ],
   "source": [
    "df.shape[0]"
   ]
  },
  {
   "cell_type": "code",
   "execution_count": 5,
   "id": "fdce8ef3",
   "metadata": {},
   "outputs": [],
   "source": [
    "#this formula is clean the data in seconds"
   ]
  },
  {
   "cell_type": "code",
   "execution_count": 6,
   "id": "8df5a3b4",
   "metadata": {},
   "outputs": [
    {
     "name": "stdout",
     "output_type": "stream",
     "text": [
      "Club ....... 1.323666721590597\n",
      "Preferred Foot ....... 0.26363486571099026\n",
      "International Reputation ....... 0.26363486571099026\n",
      "Weak Foot ....... 0.26363486571099026\n",
      "Skill Moves ....... 0.26363486571099026\n",
      "Work Rate ....... 0.26363486571099026\n",
      "Body Type ....... 0.26363486571099026\n",
      "Real Face ....... 0.26363486571099026\n",
      "Position ....... 0.32954358213873786\n",
      "Jersey Number ....... 0.32954358213873786\n",
      "Joined ....... 8.529686384357664\n",
      "Loaned From ....... 93.05761520294392\n",
      "Contract Valid Until ....... 1.5873015873015872\n",
      "Height ....... 0.26363486571099026\n",
      "Weight ....... 0.26363486571099026\n",
      "LS ....... 11.451639479321141\n",
      "ST ....... 11.451639479321141\n",
      "RS ....... 11.451639479321141\n",
      "LW ....... 11.451639479321141\n",
      "LF ....... 11.451639479321141\n",
      "CF ....... 11.451639479321141\n",
      "RF ....... 11.451639479321141\n",
      "RW ....... 11.451639479321141\n",
      "LAM ....... 11.451639479321141\n",
      "CAM ....... 11.451639479321141\n",
      "RAM ....... 11.451639479321141\n",
      "LM ....... 11.451639479321141\n",
      "LCM ....... 11.451639479321141\n",
      "CM ....... 11.451639479321141\n",
      "RCM ....... 11.451639479321141\n",
      "RM ....... 11.451639479321141\n",
      "LWB ....... 11.451639479321141\n",
      "LDM ....... 11.451639479321141\n",
      "CDM ....... 11.451639479321141\n",
      "RDM ....... 11.451639479321141\n",
      "RWB ....... 11.451639479321141\n",
      "LB ....... 11.451639479321141\n",
      "LCB ....... 11.451639479321141\n",
      "CB ....... 11.451639479321141\n",
      "RCB ....... 11.451639479321141\n",
      "RB ....... 11.451639479321141\n",
      "Crossing ....... 0.26363486571099026\n",
      "Finishing ....... 0.26363486571099026\n",
      "HeadingAccuracy ....... 0.26363486571099026\n",
      "ShortPassing ....... 0.26363486571099026\n",
      "Volleys ....... 0.26363486571099026\n",
      "Dribbling ....... 0.26363486571099026\n",
      "Curve ....... 0.26363486571099026\n",
      "FKAccuracy ....... 0.26363486571099026\n",
      "LongPassing ....... 0.26363486571099026\n",
      "BallControl ....... 0.26363486571099026\n",
      "Acceleration ....... 0.26363486571099026\n",
      "SprintSpeed ....... 0.26363486571099026\n",
      "Agility ....... 0.26363486571099026\n",
      "Reactions ....... 0.26363486571099026\n",
      "Balance ....... 0.26363486571099026\n",
      "ShotPower ....... 0.26363486571099026\n",
      "Jumping ....... 0.26363486571099026\n",
      "Stamina ....... 0.26363486571099026\n",
      "Strength ....... 0.26363486571099026\n",
      "LongShots ....... 0.26363486571099026\n",
      "Aggression ....... 0.26363486571099026\n",
      "Interceptions ....... 0.26363486571099026\n",
      "Positioning ....... 0.26363486571099026\n",
      "Vision ....... 0.26363486571099026\n",
      "Penalties ....... 0.26363486571099026\n",
      "Composure ....... 0.26363486571099026\n",
      "Marking ....... 0.26363486571099026\n",
      "StandingTackle ....... 0.26363486571099026\n",
      "SlidingTackle ....... 0.26363486571099026\n",
      "GKDiving ....... 0.26363486571099026\n",
      "GKHandling ....... 0.26363486571099026\n",
      "GKKicking ....... 0.26363486571099026\n",
      "GKPositioning ....... 0.26363486571099026\n",
      "GKReflexes ....... 0.26363486571099026\n",
      "Release Clause ....... 8.590102707749766\n"
     ]
    }
   ],
   "source": [
    "for i in df:\n",
    "    if df[i].isnull().any():\n",
    "        print(i,'.......',df[i].isnull().sum()/df.shape[0]*100)\n",
    "       #print('{}..........{}'.format(i,df[i].isnull().sum()/df.shape[0]*(100)))"
   ]
  },
  {
   "cell_type": "code",
   "execution_count": 7,
   "id": "e9d515bb",
   "metadata": {},
   "outputs": [
    {
     "data": {
      "text/plain": [
       "76984"
      ]
     },
     "execution_count": 7,
     "metadata": {},
     "output_type": "execute_result"
    }
   ],
   "source": [
    "df.isnull().sum().sum()"
   ]
  },
  {
   "cell_type": "code",
   "execution_count": 8,
   "id": "02acb86b",
   "metadata": {},
   "outputs": [
    {
     "data": {
      "text/plain": [
       "array([[1, 1, 1, 1, 1],\n",
       "       [1, 1, 1, 1, 1],\n",
       "       [1, 1, 1, 1, 1],\n",
       "       [1, 1, 1, 1, 1],\n",
       "       [1, 1, 1, 1, 1]])"
      ]
     },
     "execution_count": 8,
     "metadata": {},
     "output_type": "execute_result"
    }
   ],
   "source": [
    "import numpy as np\n",
    "a = np.ones((5,5),dtype=int)\n",
    "a"
   ]
  },
  {
   "cell_type": "code",
   "execution_count": 9,
   "id": "08c2f9aa",
   "metadata": {},
   "outputs": [
    {
     "data": {
      "text/plain": [
       "array([[0, 0, 0],\n",
       "       [0, 0, 0],\n",
       "       [0, 0, 0]])"
      ]
     },
     "execution_count": 9,
     "metadata": {},
     "output_type": "execute_result"
    }
   ],
   "source": [
    "b=np.zeros((3,3),dtype=int)\n",
    "b"
   ]
  },
  {
   "cell_type": "code",
   "execution_count": 10,
   "id": "91d8a075",
   "metadata": {},
   "outputs": [
    {
     "data": {
      "text/plain": [
       "array([[1, 1, 1, 1, 1],\n",
       "       [1, 1, 1, 1, 1],\n",
       "       [1, 1, 1, 1, 1],\n",
       "       [1, 1, 1, 1, 1],\n",
       "       [1, 1, 1, 1, 1]])"
      ]
     },
     "execution_count": 10,
     "metadata": {},
     "output_type": "execute_result"
    }
   ],
   "source": [
    "a[:]"
   ]
  },
  {
   "cell_type": "markdown",
   "id": "a1f93504",
   "metadata": {},
   "source": [
    "# cleaning data formula "
   ]
  },
  {
   "cell_type": "code",
   "execution_count": 13,
   "id": "483ef85e",
   "metadata": {},
   "outputs": [],
   "source": [
    "for i in df:\n",
    "    if df[i].isnull().any():\n",
    "        \n",
    "        if df[i].dtype==float:\n",
    "            if df[i].mean()-df[i].median()<10:\n",
    "                \n",
    "                df[i].fillna(df[i].mean(),inplace=True)\n",
    "            else:\n",
    "                df[i].fillna(df[i].median(),inlace=True)\n",
    "                \n",
    "        elif df[i].dtype=='object':\n",
    "            df[i].fillna(df[i].mode()[0],inplace=True)"
   ]
  },
  {
   "cell_type": "code",
   "execution_count": 14,
   "id": "06f1f3ed",
   "metadata": {},
   "outputs": [
    {
     "data": {
      "text/plain": [
       "0"
      ]
     },
     "execution_count": 14,
     "metadata": {},
     "output_type": "execute_result"
    }
   ],
   "source": [
    "df.isnull().sum().sum()"
   ]
  },
  {
   "cell_type": "code",
   "execution_count": null,
   "id": "20b440de",
   "metadata": {},
   "outputs": [],
   "source": []
  },
  {
   "cell_type": "code",
   "execution_count": null,
   "id": "3d401611",
   "metadata": {},
   "outputs": [],
   "source": []
  },
  {
   "cell_type": "code",
   "execution_count": null,
   "id": "6af99be7",
   "metadata": {},
   "outputs": [],
   "source": []
  },
  {
   "cell_type": "code",
   "execution_count": null,
   "id": "800ac6b8",
   "metadata": {},
   "outputs": [],
   "source": []
  },
  {
   "cell_type": "code",
   "execution_count": null,
   "id": "4e14d878",
   "metadata": {},
   "outputs": [],
   "source": []
  },
  {
   "cell_type": "code",
   "execution_count": null,
   "id": "e0a9e2f4",
   "metadata": {},
   "outputs": [],
   "source": []
  },
  {
   "cell_type": "code",
   "execution_count": null,
   "id": "3ae4a00a",
   "metadata": {},
   "outputs": [],
   "source": []
  }
 ],
 "metadata": {
  "kernelspec": {
   "display_name": "Python 3 (ipykernel)",
   "language": "python",
   "name": "python3"
  },
  "language_info": {
   "codemirror_mode": {
    "name": "ipython",
    "version": 3
   },
   "file_extension": ".py",
   "mimetype": "text/x-python",
   "name": "python",
   "nbconvert_exporter": "python",
   "pygments_lexer": "ipython3",
   "version": "3.9.7"
  }
 },
 "nbformat": 4,
 "nbformat_minor": 5
}
