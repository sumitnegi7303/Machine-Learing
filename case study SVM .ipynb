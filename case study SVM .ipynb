{
 "cells": [
  {
   "cell_type": "markdown",
   "id": "c97732a5",
   "metadata": {},
   "source": [
    "Case studies SVM in python\n",
    "First we will try and implement an SVm model in python. We will take a social network dataset which  contains features \n",
    "such as age and salary of a person to predict whether they purchased the procdur or not "
   ]
  },
  {
   "cell_type": "code",
   "execution_count": 1,
   "id": "75355dd1",
   "metadata": {},
   "outputs": [],
   "source": [
    "import numpy as np\n",
    "import pandas as pd\n",
    "import matplotlib.pyplot as plt\n",
    "from sklearn import preprocessing,neighbors,svm"
   ]
  },
  {
   "cell_type": "code",
   "execution_count": 2,
   "id": "4b300db6",
   "metadata": {},
   "outputs": [
    {
     "data": {
      "text/html": [
       "<div>\n",
       "<style scoped>\n",
       "    .dataframe tbody tr th:only-of-type {\n",
       "        vertical-align: middle;\n",
       "    }\n",
       "\n",
       "    .dataframe tbody tr th {\n",
       "        vertical-align: top;\n",
       "    }\n",
       "\n",
       "    .dataframe thead th {\n",
       "        text-align: right;\n",
       "    }\n",
       "</style>\n",
       "<table border=\"1\" class=\"dataframe\">\n",
       "  <thead>\n",
       "    <tr style=\"text-align: right;\">\n",
       "      <th></th>\n",
       "      <th>User ID</th>\n",
       "      <th>Gender</th>\n",
       "      <th>Age</th>\n",
       "      <th>EstimatedSalary</th>\n",
       "      <th>Purchased</th>\n",
       "    </tr>\n",
       "  </thead>\n",
       "  <tbody>\n",
       "    <tr>\n",
       "      <th>0</th>\n",
       "      <td>15624510</td>\n",
       "      <td>Male</td>\n",
       "      <td>19</td>\n",
       "      <td>19000</td>\n",
       "      <td>0</td>\n",
       "    </tr>\n",
       "    <tr>\n",
       "      <th>1</th>\n",
       "      <td>15810944</td>\n",
       "      <td>Male</td>\n",
       "      <td>35</td>\n",
       "      <td>20000</td>\n",
       "      <td>0</td>\n",
       "    </tr>\n",
       "    <tr>\n",
       "      <th>2</th>\n",
       "      <td>15668575</td>\n",
       "      <td>Female</td>\n",
       "      <td>26</td>\n",
       "      <td>43000</td>\n",
       "      <td>0</td>\n",
       "    </tr>\n",
       "    <tr>\n",
       "      <th>3</th>\n",
       "      <td>15603246</td>\n",
       "      <td>Female</td>\n",
       "      <td>27</td>\n",
       "      <td>57000</td>\n",
       "      <td>0</td>\n",
       "    </tr>\n",
       "    <tr>\n",
       "      <th>4</th>\n",
       "      <td>15804002</td>\n",
       "      <td>Male</td>\n",
       "      <td>19</td>\n",
       "      <td>76000</td>\n",
       "      <td>0</td>\n",
       "    </tr>\n",
       "    <tr>\n",
       "      <th>...</th>\n",
       "      <td>...</td>\n",
       "      <td>...</td>\n",
       "      <td>...</td>\n",
       "      <td>...</td>\n",
       "      <td>...</td>\n",
       "    </tr>\n",
       "    <tr>\n",
       "      <th>395</th>\n",
       "      <td>15691863</td>\n",
       "      <td>Female</td>\n",
       "      <td>46</td>\n",
       "      <td>41000</td>\n",
       "      <td>1</td>\n",
       "    </tr>\n",
       "    <tr>\n",
       "      <th>396</th>\n",
       "      <td>15706071</td>\n",
       "      <td>Male</td>\n",
       "      <td>51</td>\n",
       "      <td>23000</td>\n",
       "      <td>1</td>\n",
       "    </tr>\n",
       "    <tr>\n",
       "      <th>397</th>\n",
       "      <td>15654296</td>\n",
       "      <td>Female</td>\n",
       "      <td>50</td>\n",
       "      <td>20000</td>\n",
       "      <td>1</td>\n",
       "    </tr>\n",
       "    <tr>\n",
       "      <th>398</th>\n",
       "      <td>15755018</td>\n",
       "      <td>Male</td>\n",
       "      <td>36</td>\n",
       "      <td>33000</td>\n",
       "      <td>0</td>\n",
       "    </tr>\n",
       "    <tr>\n",
       "      <th>399</th>\n",
       "      <td>15594041</td>\n",
       "      <td>Female</td>\n",
       "      <td>49</td>\n",
       "      <td>36000</td>\n",
       "      <td>1</td>\n",
       "    </tr>\n",
       "  </tbody>\n",
       "</table>\n",
       "<p>400 rows × 5 columns</p>\n",
       "</div>"
      ],
      "text/plain": [
       "      User ID  Gender  Age  EstimatedSalary  Purchased\n",
       "0    15624510    Male   19            19000          0\n",
       "1    15810944    Male   35            20000          0\n",
       "2    15668575  Female   26            43000          0\n",
       "3    15603246  Female   27            57000          0\n",
       "4    15804002    Male   19            76000          0\n",
       "..        ...     ...  ...              ...        ...\n",
       "395  15691863  Female   46            41000          1\n",
       "396  15706071    Male   51            23000          1\n",
       "397  15654296  Female   50            20000          1\n",
       "398  15755018    Male   36            33000          0\n",
       "399  15594041  Female   49            36000          1\n",
       "\n",
       "[400 rows x 5 columns]"
      ]
     },
     "execution_count": 2,
     "metadata": {},
     "output_type": "execute_result"
    }
   ],
   "source": [
    "df = pd.read_csv(\"C:\\\\Users\\\\GOURAV NEGI\\\\Downloads\\\\Social_Network_Ads.csv\")\n",
    "df"
   ]
  },
  {
   "cell_type": "code",
   "execution_count": 6,
   "id": "e2561958",
   "metadata": {},
   "outputs": [],
   "source": [
    "x = df.iloc[:,[2,4]].values\n",
    "y = df.iloc[:,4].values"
   ]
  },
  {
   "cell_type": "markdown",
   "id": "21b8afb0",
   "metadata": {},
   "source": [
    "Now we will  the data info training and testing.We will take 75% of the data for training and test it on the rest \n",
    "which makes 25%"
   ]
  },
  {
   "cell_type": "code",
   "execution_count": 24,
   "id": "9cb2da87",
   "metadata": {},
   "outputs": [],
   "source": [
    "from sklearn.model_selection import train_test_split\n",
    "x_train,x_test,y_train,y_test = train_test_split(x,y,test_size = 25, random_state = 0)"
   ]
  },
  {
   "cell_type": "markdown",
   "id": "cc41e9dd",
   "metadata": {},
   "source": [
    "#After spitting we will scale the feature to expect normal distribution of the data.We will use\n",
    "Standard Scaler in this case."
   ]
  },
  {
   "cell_type": "code",
   "execution_count": 25,
   "id": "a7e395e7",
   "metadata": {},
   "outputs": [],
   "source": [
    "from sklearn.preprocessing import StandardScaler\n",
    "sc = StandardScaler()\n",
    "x_train = sc.fit_transform(x_train)\n",
    "x_test = sc.transform(x_test)"
   ]
  },
  {
   "cell_type": "markdown",
   "id": "966f1a32",
   "metadata": {},
   "source": [
    "Now the preprocessing of the data is over.it is time to build the model.We will apply three kernel tricks in this case\n",
    "and try evaluating the \n",
    "\n",
    "Type Markdown and LaTeX: a square"
   ]
  },
  {
   "cell_type": "code",
   "execution_count": 28,
   "id": "c961d231",
   "metadata": {
    "scrolled": false
   },
   "outputs": [],
   "source": [
    "from sklearn.svm import SVC"
   ]
  },
  {
   "cell_type": "markdown",
   "id": "d0dd68dc",
   "metadata": {},
   "source": [
    "#we have built our first model Now we will predict our data."
   ]
  },
  {
   "cell_type": "code",
   "execution_count": 29,
   "id": "e4b754a2",
   "metadata": {},
   "outputs": [
    {
     "data": {
      "text/plain": [
       "SVC(kernel='linear', random_state=0)"
      ]
     },
     "execution_count": 29,
     "metadata": {},
     "output_type": "execute_result"
    }
   ],
   "source": [
    "classifier_linear = SVC(kernel = 'linear', random_state = 0)\n",
    "classifier_linear.fit(x_train,y_train)"
   ]
  },
  {
   "cell_type": "code",
   "execution_count": 30,
   "id": "37cab124",
   "metadata": {},
   "outputs": [
    {
     "data": {
      "text/plain": [
       "array([0, 0, 0, 0, 0, 0, 0, 1, 0, 0, 0, 0, 0, 0, 0, 0, 0, 0, 1, 0, 0, 1,\n",
       "       0, 1, 0], dtype=int64)"
      ]
     },
     "execution_count": 30,
     "metadata": {},
     "output_type": "execute_result"
    }
   ],
   "source": [
    "y_pred_linear = classifier_linear.predict(x_test)\n",
    "y_pred_linear"
   ]
  },
  {
   "cell_type": "code",
   "execution_count": 31,
   "id": "c736c17e",
   "metadata": {},
   "outputs": [],
   "source": [
    "classifier_poly = SVC (kernel = 'poly', random_state = 0)\n",
    "classifier_poly.fit(x_train, y_train)\n",
    "y_pred_poly = classifier_poly.predict(x_test)"
   ]
  },
  {
   "cell_type": "code",
   "execution_count": 38,
   "id": "294fb82b",
   "metadata": {},
   "outputs": [],
   "source": [
    "classifier_poly = SVC (kernel = 'poly', random_state = 0)\n",
    "classifier_poly.fit(x_train, y_train)\n",
    "y_pred_rbf = classifier_poly.predict(x_test)"
   ]
  },
  {
   "cell_type": "markdown",
   "id": "8710300c",
   "metadata": {},
   "source": [
    "#We have made on three Kernels.The performance will be evaluated on the basis of confusion matrix and classification report."
   ]
  },
  {
   "cell_type": "code",
   "execution_count": 39,
   "id": "73531f69",
   "metadata": {},
   "outputs": [],
   "source": [
    "from sklearn.metrics import confusion_matrix"
   ]
  },
  {
   "cell_type": "markdown",
   "id": "a0a831b1",
   "metadata": {},
   "source": [
    "#Confusion matrix for linear kernel"
   ]
  },
  {
   "cell_type": "code",
   "execution_count": 40,
   "id": "cdcb3a11",
   "metadata": {},
   "outputs": [
    {
     "data": {
      "text/plain": [
       "array([[21,  0],\n",
       "       [ 0,  4]], dtype=int64)"
      ]
     },
     "execution_count": 40,
     "metadata": {},
     "output_type": "execute_result"
    }
   ],
   "source": [
    "cm_linear = confusion_matrix(y_test, y_pred_linear)\n",
    "cm_linear"
   ]
  },
  {
   "cell_type": "markdown",
   "id": "49365299",
   "metadata": {},
   "source": [
    "Confusion atrix for polynominal kernel"
   ]
  },
  {
   "cell_type": "code",
   "execution_count": 41,
   "id": "97c743e3",
   "metadata": {},
   "outputs": [
    {
     "data": {
      "text/plain": [
       "array([[21,  0],\n",
       "       [ 0,  4]], dtype=int64)"
      ]
     },
     "execution_count": 41,
     "metadata": {},
     "output_type": "execute_result"
    }
   ],
   "source": [
    "cm_poly = confusion_matrix(y_test,y_pred_poly)\n",
    "cm_poly"
   ]
  },
  {
   "cell_type": "markdown",
   "id": "76adede6",
   "metadata": {},
   "source": [
    "Confusion matrix for RBF kernel"
   ]
  },
  {
   "cell_type": "code",
   "execution_count": 42,
   "id": "b9925011",
   "metadata": {
    "scrolled": true
   },
   "outputs": [
    {
     "data": {
      "text/plain": [
       "array([[21,  0],\n",
       "       [ 0,  4]], dtype=int64)"
      ]
     },
     "execution_count": 42,
     "metadata": {},
     "output_type": "execute_result"
    }
   ],
   "source": [
    "cm_rbf = confusion_matrix(y_test, y_pred_rbf)\n",
    "cm_rbf"
   ]
  },
  {
   "cell_type": "markdown",
   "id": "8a5958fa",
   "metadata": {},
   "source": [
    " Classification report Classification report is an extended metric of  confusion matrix which gives an idea about precission\n",
    "    and recall.it tells  model is and the exact accuracy of our model."
   ]
  },
  {
   "cell_type": "markdown",
   "id": "5b4a1055",
   "metadata": {},
   "source": [
    "Classification report on linear kernel "
   ]
  },
  {
   "cell_type": "code",
   "execution_count": 45,
   "id": "b9e39f37",
   "metadata": {},
   "outputs": [],
   "source": [
    "from sklearn.metrics import classification_report"
   ]
  },
  {
   "cell_type": "code",
   "execution_count": 46,
   "id": "077dacf7",
   "metadata": {},
   "outputs": [
    {
     "name": "stdout",
     "output_type": "stream",
     "text": [
      "              precision    recall  f1-score   support\n",
      "\n",
      "           0       1.00      1.00      1.00        21\n",
      "           1       1.00      1.00      1.00         4\n",
      "\n",
      "    accuracy                           1.00        25\n",
      "   macro avg       1.00      1.00      1.00        25\n",
      "weighted avg       1.00      1.00      1.00        25\n",
      "\n"
     ]
    }
   ],
   "source": [
    "class_report_linear = classification_report(y_test, y_pred_linear)\n",
    "print(class_report_linear)"
   ]
  },
  {
   "cell_type": "markdown",
   "id": "2e5aacc9",
   "metadata": {},
   "source": [
    "# precision"
   ]
  },
  {
   "cell_type": "markdown",
   "id": "f560d662",
   "metadata": {},
   "source": [
    "precision is the ability of a classifier not to label an instance positive that is actually negative.\n",
    "For each class, it is defined as the ratio of true positives to the sum of a true of a true positive and false \n",
    "positive. precision:- Accuracy of positive predictions."
   ]
  },
  {
   "cell_type": "markdown",
   "id": "748e4d76",
   "metadata": {},
   "source": [
    "# Recall:"
   ]
  },
  {
   "cell_type": "markdown",
   "id": "42364f43",
   "metadata": {},
   "source": [
    "Recall is a measure of the classifiers completeness; the ability of a classifier to correctly find all positive instance. \n",
    "For each class, it is defined as the ratio of true positives to the sum of true positives and false negatives."
   ]
  },
  {
   "cell_type": "markdown",
   "id": "fa22a8ec",
   "metadata": {},
   "source": [
    "# f1-score :"
   ]
  },
  {
   "cell_type": "markdown",
   "id": "4f116856",
   "metadata": {},
   "source": [
    "The F1 score is a weighted harmonic mean of precision and recall such that the best score is 1.0 and\n",
    "the worst is 0.0. F1 score are lower than accuracy measures as they embed precision and recall into\n",
    "their computation.\n",
    "\n",
    "What Is a Harmonic Mean? The harmonic mean is a type of numerical average. It is calculated by dividing\n",
    "the number of observation by the reciprocal of each number in the series. Thus, the harmonic mean is \n",
    "the reciprocal of the arithmetic mean of the reciprocals."
   ]
  },
  {
   "cell_type": "markdown",
   "id": "eecd30ba",
   "metadata": {},
   "source": [
    "# Mathematics\n",
    "an expression or function so related to another that their product is unity; the quantity obtained by divide the number \n",
    "one by a given quantity."
   ]
  },
  {
   "cell_type": "markdown",
   "id": "f57453d6",
   "metadata": {},
   "source": [
    "# Support:"
   ]
  },
  {
   "cell_type": "markdown",
   "id": "89878ee6",
   "metadata": {},
   "source": [
    "Support is the number of actual occurrences of the class in the specified dataset.\n",
    "Imbalanced support in the training data may indicate structural weaknesses in the reported scores \n",
    "of the classifier and could indicate the need for stratified sampling or rebalancing."
   ]
  },
  {
   "cell_type": "markdown",
   "id": "ee172928",
   "metadata": {},
   "source": [
    "The support is the number of sample of the true response that lie in that class."
   ]
  },
  {
   "cell_type": "markdown",
   "id": "a98a1b18",
   "metadata": {},
   "source": [
    "# Recall:"
   ]
  },
  {
   "cell_type": "markdown",
   "id": "cd5d794c",
   "metadata": {},
   "source": [
    "The ability of a model to find all the relevant cases within a data set. Mathematically, We define recall as the number\n",
    "of true positive divided by the number of true positive plus the number of false negatives."
   ]
  },
  {
   "cell_type": "markdown",
   "id": "44935f19",
   "metadata": {},
   "source": [
    "Precision: The ability of a classification model to identify only the relevant data points.\n",
    "Mathematically, precision the number of true positives divided by the number of true positives plus the \n",
    "number of false positives."
   ]
  },
  {
   "cell_type": "code",
   "execution_count": null,
   "id": "345c130a",
   "metadata": {},
   "outputs": [],
   "source": []
  }
 ],
 "metadata": {
  "kernelspec": {
   "display_name": "Python 3 (ipykernel)",
   "language": "python",
   "name": "python3"
  },
  "language_info": {
   "codemirror_mode": {
    "name": "ipython",
    "version": 3
   },
   "file_extension": ".py",
   "mimetype": "text/x-python",
   "name": "python",
   "nbconvert_exporter": "python",
   "pygments_lexer": "ipython3",
   "version": "3.9.7"
  }
 },
 "nbformat": 4,
 "nbformat_minor": 5
}
